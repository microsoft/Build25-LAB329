{
 "cells": [
  {
   "cell_type": "markdown",
   "id": "a81488db",
   "metadata": {},
   "source": [
    "# Registering Your Optimized Model to Azure ML\n",
    "\n",
    "This notebook demonstrates how to register your fine-tuned and optimized model to the Azure Machine Learning registry. Model registration is crucial for version tracking, sharing, and deploying models in a production environment.\n",
    "\n",
    "![](../../lab_manual/images/step-3.png)\n",
    "\n",
    "## What You'll Learn\n",
    "\n",
    "- How to authenticate with Azure Machine Learning\n",
    "- How to create an ML client to interact with your Azure ML workspace\n",
    "- How to register model files to the Azure ML registry\n",
    "- How to add metadata and descriptions to your model\n",
    "- How to list and verify your registered models\n",
    "\n",
    "## Prerequisites\n",
    "\n",
    "- Completed the previous notebooks:\n",
    "  - `01.AzureML_Distillation.ipynb` (generated training data)\n",
    "  - `02.AzureML_FineTuningAndConvertByMSOlive.ipynb` (fine-tuned and optimized the model)\n",
    "  - `03.AzureML_RuningByORTGenAI.ipynb` (tested the optimized model)\n",
    "- Successfully created model files in `models/phi-4-mini/onnx/`\n",
    "- Access to an Azure ML workspace\n",
    "- Python environment with necessary libraries (which we'll install)\n",
    "\n",
    "## Setup Instructions\n",
    "\n",
    "1. **Azure Authentication**: Ensure you're logged in to Azure using `az login --use-device-code` in a terminal\n",
    "2. **Kernel Selection**: Change the Jupyter kernel to **\"Python 3.10 AzureML\"** using the selector in the top right\n",
    "3. **Environment File**: Ensure your `local.env` file exists with proper Azure ML workspace information"
   ]
  },
  {
   "cell_type": "markdown",
   "id": "69b50f83",
   "metadata": {
    "vscode": {
     "languageId": "plaintext"
    }
   },
   "source": [
    "## Initial Setup\n",
    "\n",
    "Before proceeding with this notebook, complete these important setup steps:\n",
    "\n",
    "1. **Azure Authentication**: Run `az login --use-device-code` in a terminal to authenticate with Azure. This will provide the credentials needed to access your Azure ML workspace.\n",
    "\n",
    "2. **Kernel Selection**: Select the \"Python 3.10 AzureML\" kernel from the dropdown menu in the top-right corner of this notebook. This kernel has most of the necessary Azure ML libraries pre-installed.\n",
    "\n",
    "3. **Environment Variables**: Ensure your `local.env` file contains the following variables:\n",
    "   - AZUREML_SUBSCRIPTION_ID\n",
    "   - AZUREML_RESOURCE_GROUP\n",
    "   - AZUREML_WS_NAME"
   ]
  },
  {
   "cell_type": "markdown",
   "id": "94b9c267",
   "metadata": {},
   "source": [
    "## 1. Install Environment Variable Handling Package\n",
    "\n",
    "First, we'll install the `python-dotenv` package. This library allows us to load environment variables from a `.env` file, making it easier to handle configuration settings securely.\n",
    "\n",
    "Environment variables are the recommended way to manage sensitive information like subscription IDs and workspace details, as they keep this information out of your code."
   ]
  },
  {
   "cell_type": "code",
   "execution_count": null,
   "id": "cd984981",
   "metadata": {},
   "outputs": [],
   "source": [
    "pip install dotenv-azd"
   ]
  },
  {
   "cell_type": "markdown",
   "id": "15ce81fe",
   "metadata": {},
   "source": [
    "## 2. Import Azure ML Model Components\n",
    "\n",
    "Here we import the basic components needed to define and register a model in Azure ML:\n",
    "\n",
    "- **Model**: Class from `azure.ai.ml.entities` that represents a machine learning model in Azure ML\n",
    "\n",
    "- **AssetTypes**: Constants that define the types of assets we can register, such as custom models, datasets, etc.\n",
    "\n",
    "These components will help us define our model for registration."
   ]
  },
  {
   "cell_type": "code",
   "execution_count": null,
   "id": "396c4d1c",
   "metadata": {
    "gather": {
     "logged": 1744965197769
    }
   },
   "outputs": [],
   "source": [
    "from azure.ai.ml.entities import Model\n",
    "from azure.ai.ml.constants import AssetTypes"
   ]
  },
  {
   "cell_type": "markdown",
   "id": "54ebef01",
   "metadata": {},
   "source": [
    "## 3. Import Complete Azure ML SDK Components\n",
    "\n",
    "Now we import all the necessary components from the Azure ML SDK to work with the ML workspace and register our model:\n",
    "\n",
    "- **MLClient**: The main client for interacting with Azure ML services\n",
    "\n",
    "- **Input**: Used to define inputs for Azure ML components\n",
    "\n",
    "- **Model**: As imported previously, for defining our model (repeated import)\n",
    "\n",
    "- **AssetTypes**: As imported previously, for defining asset types (repeated import)\n",
    "\n",
    "- **DefaultAzureCredential**: From `azure.identity`, this class provides a default credential flow for authenticating with Azure services\n",
    "\n",
    "These imports give us everything we need to connect to Azure ML and register our model."
   ]
  },
  {
   "cell_type": "code",
   "execution_count": null,
   "id": "addfb781-18a7-43de-8a96-7abd05f1afdb",
   "metadata": {
    "gather": {
     "logged": 1744965347656
    }
   },
   "outputs": [],
   "source": [
    "from azure.ai.ml import MLClient, Input\n",
    "from azure.ai.ml.entities import Model\n",
    "from azure.ai.ml.constants import AssetTypes\n",
    "from azure.identity import DefaultAzureCredential"
   ]
  },
  {
   "cell_type": "markdown",
   "id": "2544b6cc",
   "metadata": {},
   "source": [
    "## 4. Import Environment Variable Handling\n",
    "\n",
    "Here we import the libraries needed to access environment variables:\n",
    "\n",
    "- **os**: For accessing environment variables and file paths\n",
    "\n",
    "- **load_azd_env**: From `dotenv_azd`, for loading environment variables from Azure Developer CLI (AZD) environments\n",
    "\n",
    "- **load_dotenv**: From `dotenv`, for loading environment variables from local `.env` files\n",
    "\n",
    "This combination allows us to access configuration values from either AZD environments or local `.env` files, giving us flexibility in how we manage our Azure ML workspace credentials."
   ]
  },
  {
   "cell_type": "code",
   "execution_count": null,
   "id": "5d610fda",
   "metadata": {},
   "outputs": [],
   "source": [
    "import os\n",
    "from dotenv_azd import load_azd_env\n",
    "from dotenv import load_dotenv\n",
    "\n",
    "# Load environment variables from current AZD environment if available\n",
    "load_azd_env(quiet=True)\n",
    "\n",
    "# Load environment variables from local.env file if it exists\n",
    "load_dotenv(dotenv_path=\"local.env\")"
   ]
  },
  {
   "cell_type": "markdown",
   "id": "9450cd00",
   "metadata": {},
   "source": [
    "## 5. Load Environment Variables\n",
    "\n",
    "This cell loads our Azure ML workspace credentials from environment variables. We use a two-step approach:\n",
    "\n",
    "1. First, try to load variables from an Azure Developer CLI (AZD) environment if available using `load_azd_env()`\n",
    "\n",
    "2. Then, load any additional or override variables from a local `.env` file using `load_dotenv()`\n",
    "\n",
    "This approach allows us to work with either AZD environments or local files, providing flexibility in how we manage configuration. \n",
    "\n",
    "The environment variables we need are:\n",
    "- AZUREML_SUBSCRIPTION_ID\n",
    "- AZUREML_RESOURCE_GROUP\n",
    "- AZUREML_WS_NAME"
   ]
  },
  {
   "cell_type": "markdown",
   "id": "5ad99b54",
   "metadata": {},
   "source": [
    "## 6. Initialize Azure ML Client\n",
    "\n",
    "In this step, we retrieve our workspace information from the environment variables and create an ML client to interact with Azure ML:\n",
    "\n",
    "1. First, we get the necessary Azure ML workspace information from environment variables:\n",
    "   - `subscription_id`: The Azure subscription ID that contains your workspace\n",
    "   - `resource_group`: The resource group containing your workspace\n",
    "   - `workspace`: The name of your Azure ML workspace\n",
    "\n",
    "2. We print these values to verify them (in a production environment, you might remove this debugging output)\n",
    "\n",
    "3. Finally, we create an `MLClient` object using:\n",
    "   - `DefaultAzureCredential()`: Uses the default Azure authentication chain\n",
    "   - The subscription ID, resource group, and workspace name\n",
    "\n",
    "This client will be our main interface for interacting with Azure ML and registering our model."
   ]
  },
  {
   "cell_type": "code",
   "execution_count": null,
   "id": "72a4d517-9a38-4e51-865f-8da9872b8c82",
   "metadata": {
    "gather": {
     "logged": 1744965492004
    }
   },
   "outputs": [],
   "source": [
    "# Get Azure ML credentials from environment variables\n",
    "subscription_id = os.getenv('AZUREML_SUBSCRIPTION_ID')\n",
    "resource_group = os.getenv('AZUREML_RESOURCE_GROUP')\n",
    "workspace = os.getenv('AZUREML_WS_NAME')\n",
    "\n",
    "# Print values for debugging (remove in production)\n",
    "print(f\"Subscription ID: {subscription_id}\")\n",
    "print(f\"Resource Group: {resource_group}\")\n",
    "print(f\"Workspace: {workspace}\")\n",
    "\n",
    "# Create ML client with the credentials\n",
    "ml_client = MLClient(DefaultAzureCredential(), subscription_id, resource_group, workspace)"
   ]
  },
  {
   "cell_type": "markdown",
   "id": "e1676179",
   "metadata": {},
   "source": [
    "## 7. Define the Model for Registration\n",
    "\n",
    "Here we create a Model object that defines the details of our model for registration in Azure ML:\n",
    "\n",
    "- **path**: Points to the folder containing our optimized ONNX model files\n",
    "\n",
    "- **type**: Specifies that this is a custom model (rather than a standard framework model)\n",
    "\n",
    "- **name**: The name under which our model will be registered in Azure ML\n",
    "\n",
    "- **description**: A brief description of our model to help others understand its purpose\n",
    "\n",
    "These attributes provide important metadata and context for our model in the Azure ML registry. The name should be descriptive and include information about the model type and optimization level."
   ]
  },
  {
   "cell_type": "code",
   "execution_count": null,
   "id": "acba2912",
   "metadata": {
    "gather": {
     "logged": 1744965494273
    }
   },
   "outputs": [],
   "source": [
    "file_model = Model(\n",
    "    path=\"models/phi-4-mini/onnx\",\n",
    "    type=AssetTypes.CUSTOM_MODEL,\n",
    "    name=\"fine-tuning-phi-4-mini-onnx-int4-cpu\",\n",
    "    description=\"Fine tuning by MSOlive\",\n",
    ")"
   ]
  },
  {
   "cell_type": "markdown",
   "id": "79639bb8",
   "metadata": {},
   "source": [
    "## 8. Register the Model in Azure ML\n",
    "\n",
    "This cell performs the actual registration of our model to the Azure ML model registry:\n",
    "\n",
    "1. We use the `ml_client.models.create_or_update()` method to register our model\n",
    "\n",
    "2. The method takes our model definition (`file_model`) and uploads the files from the specified path to Azure ML\n",
    "\n",
    "3. If a model with the same name already exists, a new version will be created; if not, version 1 will be created\n",
    "\n",
    "4. The function returns a reference to the registered model, which we store in `registered_model`\n",
    "\n",
    "This step may take some time depending on the size of your model files and your internet connection speed."
   ]
  },
  {
   "cell_type": "code",
   "execution_count": null,
   "id": "34c6f0fc-7869-4fef-8675-acbe625c610c",
   "metadata": {
    "gather": {
     "logged": 1744965548069
    }
   },
   "outputs": [],
   "source": [
    "registered_model = ml_client.models.create_or_update(file_model)"
   ]
  },
  {
   "cell_type": "markdown",
   "id": "ac646c31",
   "metadata": {},
   "source": [
    "## 9. Verify and Explore the Registered Model\n",
    "\n",
    "After registration, we can verify our model's details and explore its properties:\n",
    "\n",
    "1. We print key information about our registered model:\n",
    "   - Name: The model's name in the registry\n",
    "   - ID: The unique identifier for the model\n",
    "   - Version: The version number (increments with each update)\n",
    "   - Description: The description we provided\n",
    "   - Path: Where the model is stored in Azure ML\n",
    "\n",
    "2. We also print all properties of the registered model by iterating through its `__dict__` attribute\n",
    "\n",
    "This gives us a complete view of the model's metadata and confirms that it was registered correctly. You can now find this model in your Azure ML workspace's Models section."
   ]
  },
  {
   "cell_type": "code",
   "execution_count": null,
   "id": "3e01a21d-7cfb-4922-80a7-73b4223db73e",
   "metadata": {},
   "outputs": [],
   "source": [
    "# Display model details\n",
    "print(f\"Model Name: {registered_model.name}\")\n",
    "print(f\"Model ID: {registered_model.id}\")\n",
    "print(f\"Model Version: {registered_model.version}\")\n",
    "print(f\"Model Description: {registered_model.description}\")\n",
    "print(f\"\\nModel Location: {registered_model.path}\")\n",
    "print(f\"\\nFull Model Properties:\")\n",
    "for key, value in registered_model.__dict__.items():\n",
    "    print(f\"{key}: {value}\")"
   ]
  }
 ],
 "metadata": {
  "kernel_info": {
   "name": "python38-azureml"
  },
  "kernelspec": {
   "display_name": "Python 3.10 - AzureML",
   "language": "python",
   "name": "python38-azureml"
  },
  "language_info": {
   "codemirror_mode": {
    "name": "ipython",
    "version": 3
   },
   "file_extension": ".py",
   "mimetype": "text/x-python",
   "name": "python",
   "nbconvert_exporter": "python",
   "pygments_lexer": "ipython3",
   "version": "3.10.11"
  },
  "microsoft": {
   "ms_spell_check": {
    "ms_spell_check_language": "en"
   }
  },
  "nteract": {
   "version": "nteract-front-end@1.0.0"
  }
 },
 "nbformat": 4,
 "nbformat_minor": 5
}
