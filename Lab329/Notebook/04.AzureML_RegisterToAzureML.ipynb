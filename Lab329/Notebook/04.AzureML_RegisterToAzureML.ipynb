{
  "cells": [
    {
      "cell_type": "markdown",
      "source": [
        "# Registering Your Optimized Model to Azure ML\n",
        "\n",
        "This notebook demonstrates how to register your fine-tuned and optimized model to the Azure Machine Learning registry. Model registration is crucial for version tracking, sharing, and deploying models in a production environment.\n",
        "\n",
        "![](../../lab_manual/images/step-3.png)\n",
        "\n",
        "## What You'll Learn\n",
        "\n",
        "- How to authenticate with Azure Machine Learning\n",
        "- How to create an ML client to interact with your Azure ML workspace\n",
        "- How to register model files to the Azure ML registry\n",
        "- How to add metadata and descriptions to your model\n",
        "- How to list and verify your registered models\n",
        "\n",
        "## Prerequisites\n",
        "\n",
        "- Completed the previous notebooks:\n",
        "  - `01.AzureML_Distillation.ipynb` (generated training data)\n",
        "  - `02.AzureML_FineTuningAndConvertByMSOlive.ipynb` (fine-tuned and optimized the model)\n",
        "  - `03.AzureML_RuningByORTGenAI.ipynb` (tested the optimized model)\n",
        "- Successfully created model files in `models/phi-4-mini/onnx/`\n",
        "- Access to an Azure ML workspace\n",
        "- Python environment with necessary libraries (which we'll install)\n",
        "\n",
        "## Setup Instructions\n",
        "\n",
        "1. **Azure Authentication**: Ensure you're logged in to Azure using `az login --use-device-code` in a terminal\n",
        "2. **Kernel Selection**: Change the Jupyter kernel to **\"Python 3.10 AzureML\"** using the selector in the top right\n",
        "3. **Environment File**: Ensure your `local.env` file exists with proper Azure ML workspace information\n"
      ],
      "metadata": {},
      "id": "a81488db"
    },
    {
      "cell_type": "markdown",
      "source": [
        "## Initial Setup\n",
        "\n",
        "Before proceeding with this notebook, complete these important setup steps:\n",
        "\n",
        "1. **Azure Authentication**: Run `az login --use-device-code` in a terminal to authenticate with Azure. This will provide the credentials needed to access your Azure ML workspace.\n",
        "\n",
        "2. **Kernel Selection**: Select the \"Python 3.10 AzureML\" kernel from the dropdown menu in the top-right corner of this notebook. This kernel has most of the necessary Azure ML libraries pre-installed.\n",
        "\n",
        "3. **Environment Variables**: Ensure your `local.env` file contains the following variables:\n",
        "   - AZUREML_SUBSCRIPTION_ID\n",
        "   - AZUREML_RESOURCE_GROUP\n",
        "   - AZUREML_WS_NAME"
      ],
      "metadata": {
        "vscode": {
          "languageId": "plaintext"
        }
      },
      "id": "69b50f83"
    },
    {
      "cell_type": "markdown",
      "source": [
        "## 1. Install Environment Variable Handling Package\n",
        "\n",
        "First, we'll install the `python-dotenv` package. This library allows us to load environment variables from a `.env` file, making it easier to handle configuration settings securely.\n",
        "\n",
        "Environment variables are the recommended way to manage sensitive information like subscription IDs and workspace details, as they keep this information out of your code."
      ],
      "metadata": {},
      "id": "94b9c267"
    },
    {
      "cell_type": "code",
      "source": [
        "pip install dotenv-azd"
      ],
      "outputs": [
        {
          "output_type": "stream",
          "name": "stdout",
          "text": "Requirement already satisfied: dotenv-azd in /anaconda/envs/azureml_py38/lib/python3.10/site-packages (0.3.0)\nRequirement already satisfied: python-dotenv in /anaconda/envs/azureml_py38/lib/python3.10/site-packages (from dotenv-azd) (1.1.0)\nNote: you may need to restart the kernel to use updated packages.\n"
        }
      ],
      "execution_count": 2,
      "metadata": {
        "gather": {
          "logged": 1747774923850
        }
      },
      "id": "cd984981"
    },
    {
      "cell_type": "markdown",
      "source": [
        "## 2. Import Azure ML Model Components\n",
        "\n",
        "Here we import the basic components needed to define and register a model in Azure ML:\n",
        "\n",
        "- **Model**: Class from `azure.ai.ml.entities` that represents a machine learning model in Azure ML\n",
        "\n",
        "- **AssetTypes**: Constants that define the types of assets we can register, such as custom models, datasets, etc.\n",
        "\n",
        "These components will help us define our model for registration."
      ],
      "metadata": {},
      "id": "15ce81fe"
    },
    {
      "cell_type": "code",
      "source": [
        "from azure.ai.ml.entities import Model\n",
        "from azure.ai.ml.constants import AssetTypes"
      ],
      "outputs": [],
      "execution_count": 3,
      "metadata": {
        "gather": {
          "logged": 1747774925206
        }
      },
      "id": "396c4d1c"
    },
    {
      "cell_type": "markdown",
      "source": [
        "## 3. Import Complete Azure ML SDK Components\n",
        "\n",
        "Now we import all the necessary components from the Azure ML SDK to work with the ML workspace and register our model:\n",
        "\n",
        "- **MLClient**: The main client for interacting with Azure ML services\n",
        "\n",
        "- **Input**: Used to define inputs for Azure ML components\n",
        "\n",
        "- **Model**: As imported previously, for defining our model (repeated import)\n",
        "\n",
        "- **AssetTypes**: As imported previously, for defining asset types (repeated import)\n",
        "\n",
        "- **DefaultAzureCredential**: From `azure.identity`, this class provides a default credential flow for authenticating with Azure services\n",
        "\n",
        "These imports give us everything we need to connect to Azure ML and register our model."
      ],
      "metadata": {},
      "id": "54ebef01"
    },
    {
      "cell_type": "code",
      "source": [
        "from azure.ai.ml import MLClient, Input\n",
        "from azure.ai.ml.entities import Model\n",
        "from azure.ai.ml.constants import AssetTypes\n",
        "from azure.identity import DefaultAzureCredential"
      ],
      "outputs": [],
      "execution_count": 4,
      "metadata": {
        "gather": {
          "logged": 1747774925262
        }
      },
      "id": "addfb781-18a7-43de-8a96-7abd05f1afdb"
    },
    {
      "cell_type": "markdown",
      "source": [
        "## 4. Import Environment Variable Handling\n",
        "\n",
        "Here we import the libraries needed to access environment variables:\n",
        "\n",
        "- **os**: For accessing environment variables and file paths\n",
        "\n",
        "- **load_azd_env**: From `dotenv_azd`, for loading environment variables from Azure Developer CLI (AZD) environments\n",
        "\n",
        "- **load_dotenv**: From `dotenv`, for loading environment variables from local `.env` files\n",
        "\n",
        "This combination allows us to access configuration values from either AZD environments or local `.env` files, giving us flexibility in how we manage our Azure ML workspace credentials."
      ],
      "metadata": {},
      "id": "2544b6cc"
    },
    {
      "cell_type": "code",
      "source": [
        "import os\n",
        "from dotenv_azd import load_azd_env\n",
        "from dotenv import load_dotenv\n",
        "\n",
        "# Load environment variables from current AZD environment if available\n",
        "load_azd_env(quiet=True)\n",
        "\n",
        "# Load environment variables from local.env file if it exists\n",
        "load_dotenv(dotenv_path=\"local.env\")"
      ],
      "outputs": [
        {
          "output_type": "execute_result",
          "execution_count": 5,
          "data": {
            "text/plain": "True"
          },
          "metadata": {}
        }
      ],
      "execution_count": 5,
      "metadata": {
        "gather": {
          "logged": 1747774925318
        }
      },
      "id": "5d610fda"
    },
    {
      "cell_type": "markdown",
      "source": [
        "## 5. Load Environment Variables\n",
        "\n",
        "This cell loads our Azure ML workspace credentials from environment variables. We use a two-step approach:\n",
        "\n",
        "1. First, try to load variables from an Azure Developer CLI (AZD) environment if available using `load_azd_env()`\n",
        "\n",
        "2. Then, load any additional or override variables from a local `.env` file using `load_dotenv()`\n",
        "\n",
        "This approach allows us to work with either AZD environments or local files, providing flexibility in how we manage configuration. \n",
        "\n",
        "The environment variables we need are:\n",
        "- AZUREML_SUBSCRIPTION_ID\n",
        "- AZUREML_RESOURCE_GROUP\n",
        "- AZUREML_WS_NAME"
      ],
      "metadata": {},
      "id": "9450cd00"
    },
    {
      "cell_type": "markdown",
      "source": [
        "## 6. Initialize Azure ML Client\n",
        "\n",
        "In this step, we retrieve our workspace information from the environment variables and create an ML client to interact with Azure ML:\n",
        "\n",
        "1. First, we get the necessary Azure ML workspace information from environment variables:\n",
        "   - `subscription_id`: The Azure subscription ID that contains your workspace\n",
        "   - `resource_group`: The resource group containing your workspace\n",
        "   - `workspace`: The name of your Azure ML workspace\n",
        "\n",
        "2. We print these values to verify them (in a production environment, you might remove this debugging output)\n",
        "\n",
        "3. Finally, we create an `MLClient` object using:\n",
        "   - `DefaultAzureCredential()`: Uses the default Azure authentication chain\n",
        "   - The subscription ID, resource group, and workspace name\n",
        "\n",
        "This client will be our main interface for interacting with Azure ML and registering our model."
      ],
      "metadata": {},
      "id": "5ad99b54"
    },
    {
      "cell_type": "code",
      "source": [
        "# Get Azure ML credentials from environment variables\n",
        "subscription_id = os.getenv('AZUREML_SUBSCRIPTION_ID')\n",
        "resource_group = os.getenv('AZUREML_RESOURCE_GROUP')\n",
        "workspace = os.getenv('AZUREML_WS_NAME')\n",
        "\n",
        "# Print values for debugging (remove in production)\n",
        "print(f\"Subscription ID: {subscription_id}\")\n",
        "print(f\"Resource Group: {resource_group}\")\n",
        "print(f\"Workspace: {workspace}\")\n",
        "\n",
        "# Create ML client with the credentials\n",
        "ml_client = MLClient(DefaultAzureCredential(), subscription_id, resource_group, workspace)"
      ],
      "outputs": [
        {
          "output_type": "stream",
          "name": "stdout",
          "text": "Subscription ID: 6415ebd4-1dd7-430f-bd4d-2f5e9419c1cd\nResource Group: rg-cvi-lab329-h-3\nWorkspace: cvi-lab329-h-3\n"
        }
      ],
      "execution_count": 6,
      "metadata": {
        "gather": {
          "logged": 1747774926170
        }
      },
      "id": "72a4d517-9a38-4e51-865f-8da9872b8c82"
    },
    {
      "cell_type": "markdown",
      "source": [
        "## 7. Define the Model for Registration\n",
        "\n",
        "Here we create a Model object that defines the details of our model for registration in Azure ML:\n",
        "\n",
        "- **path**: Points to the folder containing our optimized ONNX model files\n",
        "\n",
        "- **type**: Specifies that this is a custom model (rather than a standard framework model)\n",
        "\n",
        "- **name**: The name under which our model will be registered in Azure ML\n",
        "\n",
        "- **description**: A brief description of our model to help others understand its purpose\n",
        "\n",
        "These attributes provide important metadata and context for our model in the Azure ML registry. The name should be descriptive and include information about the model type and optimization level."
      ],
      "metadata": {},
      "id": "e1676179"
    },
    {
      "cell_type": "code",
      "source": [
        "file_model = Model(\n",
        "    path=\"models/phi-4-mini/onnx\",\n",
        "    type=AssetTypes.CUSTOM_MODEL,\n",
        "    name=\"fine-tuning-phi-4-mini-onnx-int4-cpu\",\n",
        "    description=\"Fine tuning by MSOlive\",\n",
        ")"
      ],
      "outputs": [],
      "execution_count": 7,
      "metadata": {
        "gather": {
          "logged": 1747774926247
        }
      },
      "id": "acba2912"
    },
    {
      "cell_type": "markdown",
      "source": [
        "## 8. Register the Model in Azure ML\n",
        "\n",
        "This cell performs the actual registration of our model to the Azure ML model registry:\n",
        "\n",
        "1. We use the `ml_client.models.create_or_update()` method to register our model\n",
        "\n",
        "2. The method takes our model definition (`file_model`) and uploads the files from the specified path to Azure ML\n",
        "\n",
        "3. If a model with the same name already exists, a new version will be created; if not, version 1 will be created\n",
        "\n",
        "4. The function returns a reference to the registered model, which we store in `registered_model`\n",
        "\n",
        "This step may take some time depending on the size of your model files and your internet connection speed."
      ],
      "metadata": {},
      "id": "79639bb8"
    },
    {
      "cell_type": "code",
      "source": [
        "registered_model = ml_client.models.create_or_update(file_model)"
      ],
      "outputs": [
        {
          "output_type": "stream",
          "name": "stderr",
          "text": "Your file exceeds 100 MB. If you experience low speeds, latency, or broken connections, we recommend using the AzCopyv10 tool for this file transfer.\n\nExample: azcopy copy '/afh/projects/cvi-lab329-h-3-d0ca370a-6510-40b5-b1dc-98d97b208684/shared/Users/cedricvidal/models/phi-4-mini/onnx' 'https://sthubvc4zovnn4uqts.blob.core.windows.net/d0ca370a-6510-40b5-b1dc-98d97b208684-azureml-blobstore/LocalUpload/4e85d7df997d513303aa791ce94b3cc5/onnx' \n\nSee https://learn.microsoft.com/azure/storage/common/storage-use-azcopy-v10 for more information.\n\u001b[32mUploading onnx (4975.45 MBs): 100%|██████████| 4975453220/4975453220 [00:13<00:00, 366428957.40it/s]\n\u001b[39m\n\n"
        }
      ],
      "execution_count": 8,
      "metadata": {
        "gather": {
          "logged": 1747774976608
        }
      },
      "id": "34c6f0fc-7869-4fef-8675-acbe625c610c"
    },
    {
      "cell_type": "markdown",
      "source": [
        "## 9. Verify and Explore the Registered Model\n",
        "\n",
        "After registration, we can verify our model's details and explore its properties:\n",
        "\n",
        "1. We print key information about our registered model:\n",
        "   - Name: The model's name in the registry\n",
        "   - ID: The unique identifier for the model\n",
        "   - Version: The version number (increments with each update)\n",
        "   - Description: The description we provided\n",
        "   - Path: Where the model is stored in Azure ML\n",
        "\n",
        "2. We also print all properties of the registered model by iterating through its `__dict__` attribute\n",
        "\n",
        "This gives us a complete view of the model's metadata and confirms that it was registered correctly. You can now find this model in your Azure ML workspace's Models section."
      ],
      "metadata": {},
      "id": "ac646c31"
    },
    {
      "cell_type": "code",
      "source": [
        "# Display model details\n",
        "print(f\"Model Name: {registered_model.name}\")\n",
        "print(f\"Model ID: {registered_model.id}\")\n",
        "print(f\"Model Version: {registered_model.version}\")\n",
        "print(f\"Model Description: {registered_model.description}\")\n",
        "print(f\"\\nModel Location: {registered_model.path}\")\n",
        "print(f\"\\nFull Model Properties:\")\n",
        "for key, value in registered_model.__dict__.items():\n",
        "    print(f\"{key}: {value}\")"
      ],
      "outputs": [
        {
          "output_type": "stream",
          "name": "stdout",
          "text": "Model Name: fine-tuning-phi-4-mini-onnx-int4-cpu\nModel ID: /subscriptions/6415ebd4-1dd7-430f-bd4d-2f5e9419c1cd/resourceGroups/rg-cvi-lab329-h-3/providers/Microsoft.MachineLearningServices/workspaces/cvi-lab329-h-3/models/fine-tuning-phi-4-mini-onnx-int4-cpu/versions/1\nModel Version: 1\nModel Description: Fine tuning by MSOlive\n\nModel Location: azureml://subscriptions/6415ebd4-1dd7-430f-bd4d-2f5e9419c1cd/resourceGroups/rg-cvi-lab329-h-3/workspaces/cvi-lab329-h-3/datastores/workspaceblobstore/paths/LocalUpload/4e85d7df997d513303aa791ce94b3cc5/onnx\n\nFull Model Properties:\njob_name: None\n_intellectual_property: None\n_system_metadata: None\n_is_anonymous: False\n_auto_increment_version: False\nauto_delete_setting: None\nname: fine-tuning-phi-4-mini-onnx-int4-cpu\ndescription: Fine tuning by MSOlive\ntags: {}\nproperties: {}\n_print_as_yaml: False\n_id: /subscriptions/6415ebd4-1dd7-430f-bd4d-2f5e9419c1cd/resourceGroups/rg-cvi-lab329-h-3/providers/Microsoft.MachineLearningServices/workspaces/cvi-lab329-h-3/models/fine-tuning-phi-4-mini-onnx-int4-cpu/versions/1\n_Resource__source_path: \n_base_path: /afh/projects/cvi-lab329-h-3-d0ca370a-6510-40b5-b1dc-98d97b208684/shared/Users/cedricvidal\n_creation_context: <azure.ai.ml.entities._system_data.SystemData object at 0x7e1fd406c820>\n_serialize: <msrest.serialization.Serializer object at 0x7e1fb2314730>\n_version: 1\nlatest_version: None\n_path: azureml://subscriptions/6415ebd4-1dd7-430f-bd4d-2f5e9419c1cd/resourceGroups/rg-cvi-lab329-h-3/workspaces/cvi-lab329-h-3/datastores/workspaceblobstore/paths/LocalUpload/4e85d7df997d513303aa791ce94b3cc5/onnx\ndatastore: None\nutc_time_created: None\nflavors: None\n_arm_type: model_version\ntype: custom_model\nstage: Development\n"
        }
      ],
      "execution_count": 9,
      "metadata": {
        "gather": {
          "logged": 1747774976666
        }
      },
      "id": "3e01a21d-7cfb-4922-80a7-73b4223db73e"
    }
  ],
  "metadata": {
    "kernel_info": {
      "name": "python38-azureml"
    },
    "kernelspec": {
      "name": "python38-azureml",
      "language": "python",
      "display_name": "Python 3.10 - AzureML"
    },
    "language_info": {
      "name": "python",
      "version": "3.10.11",
      "mimetype": "text/x-python",
      "codemirror_mode": {
        "name": "ipython",
        "version": 3
      },
      "pygments_lexer": "ipython3",
      "nbconvert_exporter": "python",
      "file_extension": ".py"
    },
    "microsoft": {
      "ms_spell_check": {
        "ms_spell_check_language": "en"
      }
    },
    "nteract": {
      "version": "nteract-front-end@1.0.0"
    }
  },
  "nbformat": 4,
  "nbformat_minor": 5
}